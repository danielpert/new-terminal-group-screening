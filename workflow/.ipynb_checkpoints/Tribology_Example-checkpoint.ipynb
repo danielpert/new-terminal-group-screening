{
 "cells": [
  {
   "cell_type": "markdown",
   "metadata": {},
   "source": [
    "## Example of TRUE nanotribological properties workflow\n",
    "\n",
    "### Background\n",
    "- Thin films can be used as coatings to reduce coefficient of friction and force of adhesion when shearing between two surfaces.\n",
    "- Many variables of a thin film can be varied and, hence, makes it a prime candidate for computational simulation.\n",
    "- Several molecular dynamics (MD) studies on this subject have been conducted, focusing on investigating different properties.\n",
    "- This specific example is based on a more in-depth study by Dr. Andrew Summers et al., which can be found at:  https://pubs.acs.org/doi/10.1021/acs.jctc.9b01183.\n",
    "    \n",
    "### Model\n",
    "- Initialization of two surfaces coated with thin film - varying mixing composition, backbone chainlength, terminal groups\n",
    "- Two surface was then energy minimized through a few steps (by LAMMPS and GROMACS)\n",
    "- The two system is then compressed and sheared against each other (the top surface moving, and the bottom surface fixed)\n",
    "- Output is analyzed with MDAnalysis\n",
    "\n",
    "### Simulation Details\n",
    "- Initialze with MoSDeF\n",
    "- Fix overlaps with LAMMPS\n",
    "- Energy Minimize with GROMACS\n",
    "- NVT Equilibration with GROMACS\n",
    "- Compress with GROMACS\n",
    "- Shearing at 5nN with GROMACS\n",
    "- Data Analysis MDAnalysis and pymbar"
   ]
  },
  {
   "cell_type": "markdown",
   "metadata": {},
   "source": [
    "#### Notice:\n",
    "- For the purpose of demonstration, this workflow is designed to work for every machine. Thus we are making the assumption that no `GPU` can be used for the course of simulation, and `CPU` options are defaults for most of our calculation. Hence, the performance for the GROMACS engine is greatly compromised. If the user wished to switch to use `GPU` acceleration, one can delete the `-nb cpu` flags and add `-ntmpi 1` for the cells below.\n",
    "- It should also be noted that, because of the nature of molecular dynamics simulation, the most of the operation belows are quite computationally expensive. Except for the first three steps, `System initialization`, `Fix overlaps by LAMMPS`, and `Energy minimize by GROMACS`, the other simulations will take longer time to finish on a normal personal computer.\n",
    "- If ones wish to skip the example simulation and look at the scalability, part of the `Extensible` property of TRUE, they can choose to execute the first two cells, which set up our local package, and continue to the last three cells, which set up the expanded workspace and workflow.\n",
    "- If running the whole notebook is desirable, we recommend user to change the number of steps for the `NVT Equilibration`, `Compress` and `Shearing at 5nN` so the simulations could finish in a shorter time frame. All the input script files is accessible at `TRUE-nanotribology/workflow/util/mdp_files`. Please note that this could affect the accuracy of the final result."
   ]
  },
  {
   "cell_type": "markdown",
   "metadata": {},
   "source": [
    "#### System initialization"
   ]
  },
  {
   "cell_type": "code",
   "execution_count": null,
   "metadata": {},
   "outputs": [],
   "source": [
    "!pip install -e .\n",
    "import mbuild\n",
    "from util.helper.functions import system_builder\n",
    "from util.helper.analysis import calc_nematic_order\n",
    "import warnings\n",
    "warnings.filterwarnings(\"ignore\")"
   ]
  },
  {
   "cell_type": "code",
   "execution_count": null,
   "metadata": {},
   "outputs": [],
   "source": [
    "# Change into working directory\n",
    "%cd example_simulation/"
   ]
  },
  {
   "cell_type": "code",
   "execution_count": null,
   "metadata": {
    "scrolled": false
   },
   "outputs": [],
   "source": [
    "structure = system_builder(seed=1, chainlength=17, num_chains=100)"
   ]
  },
  {
   "cell_type": "code",
   "execution_count": null,
   "metadata": {},
   "outputs": [],
   "source": [
    "structure.visualize()"
   ]
  },
  {
   "cell_type": "markdown",
   "metadata": {},
   "source": [
    "#### Fix overlaps by LAMMPS"
   ]
  },
  {
   "cell_type": "markdown",
   "metadata": {},
   "source": [
    "Note: The wall time needed to run this step on a 2009 Mac Pro machine with 2 x 2.26 GHz Quad-Core Intel Xeon was 0:28:15"
   ]
  },
  {
   "cell_type": "code",
   "execution_count": null,
   "metadata": {},
   "outputs": [],
   "source": [
    "# Command (lmp_serial) might be different (lmp) depend on the installed lammps version\n",
    "!lmp_serial -in ../util/mdp_files/in.minimize -log minimize.log"
   ]
  },
  {
   "cell_type": "markdown",
   "metadata": {},
   "source": [
    "#### Energy minimize by GROMACS"
   ]
  },
  {
   "cell_type": "markdown",
   "metadata": {},
   "source": [
    "Note: The wall time needed to run this step on a 2009 Mac Pro machine with 2 x 2.26 GHz Quad-Core Intel Xeon was 0:11:58"
   ]
  },
  {
   "cell_type": "code",
   "execution_count": null,
   "metadata": {},
   "outputs": [],
   "source": [
    "# Convert .xtc to .gro\n",
    "!echo 0| gmx trjconv -s init.gro -f minimize.xtc -o minimize.gro  -b 1.0 -e 1.0\n",
    "# Grompp\n",
    "!gmx grompp -f ../util/mdp_files/em.mdp -c minimize.gro -p init.top -n init.ndx -o em.tpr -maxwarn 2\n",
    "# Run GROMACS\n",
    "!gmx mdrun -v -deffnm em -s em.tpr -cpi em.cpt -nb cpu"
   ]
  },
  {
   "cell_type": "markdown",
   "metadata": {},
   "source": [
    "#### NVT Equilibrate by GROMACS"
   ]
  },
  {
   "cell_type": "markdown",
   "metadata": {},
   "source": [
    "Note: The wall time needed to run this step on a 2009 Mac Pro machine with 2 x 2.26 GHz Quad-Core Intel Xeon was 9:32:38"
   ]
  },
  {
   "cell_type": "code",
   "execution_count": null,
   "metadata": {},
   "outputs": [],
   "source": [
    "# Grompp\n",
    "!gmx grompp -f ../util/mdp_files/nvt.mdp -c em.gro -p init.top -n init.ndx -o nvt.tpr -maxwarn 2\n",
    "# Run GROMACS\n",
    "!gmx mdrun -v -deffnm nvt -s nvt.tpr -cpi nvt.cpt -nb cpu"
   ]
  },
  {
   "cell_type": "markdown",
   "metadata": {},
   "source": [
    "#### Compress wih GROMACS"
   ]
  },
  {
   "cell_type": "markdown",
   "metadata": {},
   "source": [
    "Note: The wall time needed to run this step on a 2009 Mac Pro machine with 2 x 2.26 GHz Quad-Core Intel Xeon was 4:43:54"
   ]
  },
  {
   "cell_type": "code",
   "execution_count": null,
   "metadata": {},
   "outputs": [],
   "source": [
    "# Grompp\n",
    "!gmx grompp -f ../util/mdp_files/compress.mdp -c nvt.gro -p init.top -n init.ndx -o compress.tpr -maxwarn 3\n",
    "# Run GROMACS\n",
    "!gmx mdrun -nt 16 -v -deffnm compress -s compress.tpr -cpi compress.cpt -nb cpu"
   ]
  },
  {
   "cell_type": "markdown",
   "metadata": {},
   "source": [
    "#### Shearing at 5nN"
   ]
  },
  {
   "cell_type": "markdown",
   "metadata": {},
   "source": [
    "Note: The wall time needed to run this step on a 2009 Mac Pro machine with 2 x 2.26 GHz Quad-Core Intel Xeon was 2days 3:12:10"
   ]
  },
  {
   "cell_type": "code",
   "execution_count": null,
   "metadata": {},
   "outputs": [],
   "source": [
    "# Grompp\n",
    "!gmx grompp -f ../util/mdp_files/shear_5nN.mdp -c compress.gro -p init.top -n init.ndx -o shear_5nN.tpr -maxwarn 3\n",
    "# Run GROMACS\n",
    "!gmx mdrun -v -nt 16 -s shear_5nN.tpr -deffnm shear_5nN -cpi shear_5nN.cpt -cpo shear_5nN.cpt -noappend"
   ]
  },
  {
   "cell_type": "markdown",
   "metadata": {},
   "source": [
    "#### Calculate nematic order"
   ]
  },
  {
   "cell_type": "code",
   "execution_count": null,
   "metadata": {
    "scrolled": true
   },
   "outputs": [],
   "source": [
    "# Unwrap stuff\n",
    "!echo 0 | gmx trjconv -f shear_5nN.part0001.xtc -o shear_5nN-unwrapped.xtc -s shear_5nN.part0001.gro -pbc nojump\n",
    "# Calculate nematic order\n",
    "calc_nematic_order(traj_filename=\"shear_5nN-unwrapped.xtc\", top_filename=\"shear_5nN.part0001.gro\", output_filename=\"shear_5nN-S2.txt\", ndx_filename=\"init.ndx\", n_chains=100)"
   ]
  },
  {
   "cell_type": "code",
   "execution_count": null,
   "metadata": {},
   "outputs": [],
   "source": [
    "import matplotlib\n",
    "import numpy as np\n",
    "import matplotlib.pyplot as plt\n",
    "%matplotlib inline  "
   ]
  },
  {
   "cell_type": "code",
   "execution_count": null,
   "metadata": {},
   "outputs": [],
   "source": [
    "S2 = np.loadtxt(fname='shear_5nN-S2.txt',skiprows=1)"
   ]
  },
  {
   "cell_type": "code",
   "execution_count": null,
   "metadata": {
    "scrolled": true
   },
   "outputs": [],
   "source": [
    "plt.plot(S2[:,0],S2[:,1])\n",
    "plt.xlabel('time (ps)')\n",
    "plt.ylabel('Bottom Monolayer')"
   ]
  },
  {
   "cell_type": "code",
   "execution_count": null,
   "metadata": {},
   "outputs": [],
   "source": [
    "plt.plot(S2[:,0],S2[:,2])\n",
    "plt.xlabel('time (ps)')\n",
    "plt.ylabel('Top Monolayer')"
   ]
  },
  {
   "cell_type": "markdown",
   "metadata": {},
   "source": [
    "- The two figures above represent the nematic order of our systems throughout the last simulation, shearing at 5 nN. Hence, these plot includes the pre-equlibrium periods, which should be discarded before further calculation.\n",
    "- We could also determine the equilibrium period automatically by using another library called `pymbar`. This library would also allow user to determine the optimal bin size that could be use for block statistic."
   ]
  },
  {
   "cell_type": "code",
   "execution_count": null,
   "metadata": {},
   "outputs": [],
   "source": [
    "from pymbar import timeseries\n",
    "from scipy import stats"
   ]
  },
  {
   "cell_type": "code",
   "execution_count": null,
   "metadata": {},
   "outputs": [],
   "source": [
    "[t01, g1, Neff_max1] = timeseries.detectEquilibration(S2[:,1])\n",
    "[t02, g2, Neff_max2] = timeseries.detectEquilibration(S2[:,2])\n",
    "if t01 > t02:\n",
    "    [t0, g, Neff_max] = [t01, g1, Neff_max1]\n",
    "else:\n",
    "    [t0, g, Neff_max] = [t02, g2, Neff_max2]"
   ]
  },
  {
   "cell_type": "markdown",
   "metadata": {},
   "source": [
    "- From here, we can directly calcualte the average nematic order of the bottom and top monolayer of the production period."
   ]
  },
  {
   "cell_type": "code",
   "execution_count": null,
   "metadata": {},
   "outputs": [],
   "source": [
    "bottom = [round(np.mean(S2[t0:,1]),3), round(np.std(S2[t0:,1]),3)]\n",
    "top = [round(np.mean(S2[t0:,2]),3), round(np.std(S2[t0:,2]),3)]\n",
    "print('Nematic order of:')\n",
    "print('\\tBottom monolayer: {} +/- {}'.format(bottom[0],bottom[1]))\n",
    "print('\\tTop monolayer: {} +/- {}'.format(top[0],top[1]))"
   ]
  },
  {
   "cell_type": "markdown",
   "metadata": {},
   "source": [
    "- We can also plot the nematic order of this period to make sure there is no odd behavior."
   ]
  },
  {
   "cell_type": "code",
   "execution_count": null,
   "metadata": {},
   "outputs": [],
   "source": [
    "plt.plot(S2[t0:,0],S2[t0:,1], label='Bottom monolayer')\n",
    "plt.plot(S2[t0:,0],S2[t0:,2], label='Top monolayer')\n",
    "plt.xlabel('time (ps)')\n",
    "plt.ylabel('Nematic order')\n",
    "plt.ylim(0.4, 0.65)\n",
    "plt.legend(loc='upper right')"
   ]
  },
  {
   "cell_type": "markdown",
   "metadata": {},
   "source": [
    "- We can also perform block average to have a more refined plot"
   ]
  },
  {
   "cell_type": "code",
   "execution_count": null,
   "metadata": {},
   "outputs": [],
   "source": [
    "equilibrated_time = S2[t0:, 0]\n",
    "equilibrated_bottom = S2[t0:, 1]\n",
    "equilibrated_top = S2[t0:, 2]\n",
    "indices_top = timeseries.subsampleCorrelatedData(equilibrated_top,conservative=True)\n",
    "indices_bottom = timeseries.subsampleCorrelatedData(equilibrated_bottom,conservative=True)\n",
    "if indices_top[2] > indices_bottom[1]:\n",
    "    indices = indices_bottom\n",
    "else:\n",
    "    indices = indices_top"
   ]
  },
  {
   "cell_type": "code",
   "execution_count": null,
   "metadata": {},
   "outputs": [],
   "source": [
    "bottom_block_average = stats.binned_statistic(equilibrated_time,equilibrated_bottom,statistic='mean',bins=equilibrated_time[list(indices)])\n",
    "bottom_block_std = stats.binned_statistic(equilibrated_time,equilibrated_bottom,statistic='std',bins=equilibrated_time[list(indices)])\n",
    "\n",
    "top_block_average = stats.binned_statistic(equilibrated_time,equilibrated_top,statistic='mean',bins=equilibrated_time[list(indices)])\n",
    "top_block_std = stats.binned_statistic(equilibrated_time,equilibrated_top,statistic='std',bins=equilibrated_time[list(indices)])"
   ]
  },
  {
   "cell_type": "code",
   "execution_count": null,
   "metadata": {},
   "outputs": [],
   "source": [
    "steps = 20"
   ]
  },
  {
   "cell_type": "code",
   "execution_count": null,
   "metadata": {},
   "outputs": [],
   "source": [
    "plt.plot(top_block_average.bin_edges[1::steps],top_block_average.statistic[::steps], label='Top monolayer')\n",
    "plt.fill_between(top_block_average.bin_edges[1::steps],top_block_average.statistic[::steps] - top_block_std.statistic[::steps], top_block_average.statistic[::steps] + top_block_std.statistic[::steps], alpha = 0.5)\n",
    "plt.plot(bottom_block_average.bin_edges[1::steps],bottom_block_average.statistic[::steps], label='Bottom monolayer')\n",
    "plt.fill_between(bottom_block_average.bin_edges[1::steps],bottom_block_average.statistic[::steps] - bottom_block_std.statistic[::steps], bottom_block_average.statistic[::steps] + bottom_block_std.statistic[::steps], alpha = 0.5)\n",
    "\n",
    "plt.ylim(0.4,0.65)\n",
    "plt.legend(loc='upper right')"
   ]
  },
  {
   "cell_type": "code",
   "execution_count": null,
   "metadata": {},
   "outputs": [],
   "source": [
    "import csv \n",
    "\n",
    "with open('equilibrated_data.csv', 'w', newline='') as f:\n",
    "    writer = csv.writer(f, delimiter='\\t')\n",
    "    writer.writerow([\"Time (ps)\", \"Top\", \"Top std\", \"Bot\", \"Bot std\"])\n",
    "    writer.writerows(zip(top_block_average.bin_edges[1::steps],top_block_average.statistic[::steps],top_block_std.statistic[::steps],bottom_block_average.statistic[::steps],bottom_block_std.statistic[::steps]))"
   ]
  },
  {
   "cell_type": "markdown",
   "metadata": {},
   "source": [
    "- It is also important to notice that, not every run will generate an exact trajectory, and hence nematic order graph, because there is a random seed for each gromacs run. This random seed information can be extracted from gromacs `*.tpr` file. \n",
    "- However, this should not affect the Reproducibility principle in TRUE, because TRUE concerns with the macroscale reproducibility."
   ]
  },
  {
   "cell_type": "markdown",
   "metadata": {},
   "source": [
    "### Expanding\n",
    "\n",
    "- Above is a complete shearing simulation for a single system (a dual-monolayer with a 17 carbon Alkylsilane backbone cap with a methyl terminal group). The ouput result can be used to calculate wide range of tribology properties such as coefficient of friction, force of adhesion, or nematic order (as shown above). However, to study the trends of the system tribological properties induced by the terminal groups, backbone chemistries, or backbone chainlength, etc., we will need to have more than just a few simulations. Hence, design a project with TRUE in mind, will be extremely beneficial in the long run, when we desire to study more variables, extending beyond the original project.\n",
    "- The following part of this example will try to show how, by designing our code following Object Oriented Programming (OOP) principles and using a few open-source libraries, we can build a TRUE simulation project, emphasizing at its extensibility and scalability. "
   ]
  },
  {
   "cell_type": "code",
   "execution_count": null,
   "metadata": {},
   "outputs": [],
   "source": [
    "%cd ../example_workspace/"
   ]
  },
  {
   "cell_type": "markdown",
   "metadata": {},
   "source": [
    "- We start wil initialize a signac workspace by running `init.py` in the `wokrflow/example_workspace/src`.\n",
    "- In the `init.py` script, we can specify what type of variables we are varying, such as chain length in this example, and create separate directory for each unique system. \n",
    "- The script will then create a `signac workspace` comprises of directories, each contains `statepoint` that descibe parameters of corresponding system. "
   ]
  },
  {
   "cell_type": "code",
   "execution_count": null,
   "metadata": {},
   "outputs": [],
   "source": [
    "!python src/init.py --seed 27 --num-replicas 3 "
   ]
  },
  {
   "cell_type": "markdown",
   "metadata": {},
   "source": [
    "- The `signac workspace` can be then accessed by `signac-flow` to perform different operations as in `workflow/example_workspace/src/project.py`"
   ]
  },
  {
   "cell_type": "code",
   "execution_count": null,
   "metadata": {},
   "outputs": [],
   "source": [
    "!python src/project.py run -o initialize_system"
   ]
  },
  {
   "cell_type": "markdown",
   "metadata": {},
   "source": [
    "- This example stops at initializing the system, but other steps of the simulations of the workflow can be implemented analogously. "
   ]
  },
  {
   "cell_type": "code",
   "execution_count": null,
   "metadata": {},
   "outputs": [],
   "source": []
  }
 ],
 "metadata": {
  "kernelspec": {
   "display_name": "Python 3",
   "language": "python",
   "name": "python3"
  },
  "language_info": {
   "codemirror_mode": {
    "name": "ipython",
    "version": 3
   },
   "file_extension": ".py",
   "mimetype": "text/x-python",
   "name": "python",
   "nbconvert_exporter": "python",
   "pygments_lexer": "ipython3",
   "version": "3.6.10"
  }
 },
 "nbformat": 4,
 "nbformat_minor": 2
}
